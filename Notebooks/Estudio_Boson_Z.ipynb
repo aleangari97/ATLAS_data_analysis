{
 "cells": [
  {
   "cell_type": "markdown",
   "metadata": {},
   "source": [
    "<CENTER>\n",
    "    <a href=\"http://opendata.atlas.cern\" class=\"icons\" src=\"./pictures/ATLASOD.gif\" Style=\"width:50%\"></a>\n",
    "</CENTER>"
   ]
  },
  {
   "cell_type": "markdown",
   "metadata": {},
   "source": [
    "[![git](./pictures/ATLASOD.gif)](http://opendata.atlas.cern)"
   ]
  },
  {
   "cell_type": "markdown",
   "metadata": {},
   "source": [
    "<center> \n",
    "    \n",
    "# Reconstrucción de la Masa invariante del Bosón Z en dos canales de decaimiento; $Z^{0} \\rightarrow \\mu^{-}+\\mu^{+}$ y $Z^{0} \\rightarrow e^{-}+e^{+}$\n",
    "</center>"
   ]
  },
  {
   "cell_type": "markdown",
   "metadata": {},
   "source": [
    "![Decaimiento](./pictures/Decay_Z.jpg)"
   ]
  },
  {
   "cell_type": "markdown",
   "metadata": {},
   "source": [
    "------------------------------------\n",
    "## Introducción.\n",
    "El bosón Z, y los bosones cargados electrónicamente $W^{+}$ y $W^{-}$ son los mediadores de la [interacción nuclear débil](https://en.wikipedia.org/wiki/Weak_interaction), una de las cuatro [interacciones fundamentales](https://es.wikipedia.org/wiki/Interacci%C3%B3n_fundamental) de la naturaleza. El bosón Z tiene las siguientes propiedades:\n",
    " - Es eléctricamente neutro y [es su propia antipartícula](https://en.wikipedia.org/wiki/Real_neutral_particle).\n",
    " - Su espín es 1.\n",
    " - Tiene una [vida media](https://en.wikipedia.org/wiki/Half-life) de aproximadamente $3*10^{-25}s$.\n",
    " - Una masa de $m=91.18GeV$.\n",
    " \n",
    "Debido a que el bosón Z tiene una vida media muy corta, no existe ningún instrumento capaz de dectectarlo en ese pequeño espacio de tiempo, pero lo podemos \"ver\" por medio de sus decaimientos. Naturalmente, las leyes de la naturaleza deben ser seguidas también en el proceso de la desintegración del Z. Esto significa, entre otras cosas, que ya que el bosón tiene carga neutra , la carga de los productos de desintegración debe ser igual a cero. Así si un bosón Z decae en dos partículas, éstas deben ser siempre un par partícula-antipartícula. Sumando todos los tipos permitidos de combinaciones de leptones y quarks conduce a [24 posibilidades](https://atlas.physicsmasterclasses.org/en/zpath_lhcphysics2.htm). Sin embargo, en este notebook nos enfocaremos solamente en dos de los productos de desintegración más \"fácil\" de dectetar, a saber\n",
    "- par electrón-positrón\n",
    "- par muón-antimuón\n",
    "\n",
    "Por otra parte, el [Gran Colisionador de Hadrones (LHC)](https://en.wikipedia.org/wiki/Large_Hadron_Collider) acelera y dirige trillones de protones para colisionar con otros trillones de protones y debido a que los  protones colisionan con tanta energía se generan un chorro de partículas (las que forman materia ordinaria y otras que sólo existían justamente tras el Big Bang) en cada evento. Ahora bien, debido a que en cada evento (colisión protón-protón) se generan muchas partículas, debemos usar cortes para seleccionar los eventos de nuestro interés, es decir, eventos del bosón Z. Los criterios o cortes de selección de eventos para el bosón Z son:\n",
    "- Exactamente dos buenos leptones con $p_{T}>25$\n",
    "- Leptones con carga opuesta.\n",
    "- Leptones con el mismo sabor.\n",
    "- $|m_{ll}-m_{Z}|<20GeV$\n",
    "\n",
    " Aplicados estos criterios en el análisis, podemos calcular la masa invariante de los leptones seleccionados, es decir, la masa invariante del bosón Z por medio de la siguiente [expresión](https://en.wikipedia.org/wiki/Invariant_mass)\n",
    " \n",
    " $$M^2=2.p_{Tlep1}.p_{Tlep2}(\\cosh{(\\eta_{lep1}-\\eta_{lep2})}-\\cos{(\\phi_{lep1}-\\phi_{lep2}})$$\n",
    " \n",
    " Sin embargo, en el análisis de este notebook no se utiliza la expresión anterior, sino se utiliza los [TLorentzVector](https://root.cern.ch/doc/master/classTLorentzVector.html).\n",
    "\n",
    "------------------------------"
   ]
  },
  {
   "cell_type": "markdown",
   "metadata": {},
   "source": [
    "Necesitamos incluir algunas bibliotecas estándar de C++ y ROOT"
   ]
  },
  {
   "cell_type": "code",
   "execution_count": 1,
   "metadata": {},
   "outputs": [],
   "source": [
    "#include <iostream> \n",
    "#include <string> \n",
    "#include <stdio.h> \n",
    "#include <time.h>\n",
    "using namespace std;"
   ]
  },
  {
   "cell_type": "markdown",
   "metadata": {},
   "source": [
    "--------------------------\n",
    "Como vamos usar más de un archivo de entrada .root, la mejor opción es usar un objeto [TCHAIN](https://root.cern.ch/doc/master/classTChain.html). Esto permite \"encadenar\" varias muestras en una sola estructura que luego podemos correr."
   ]
  },
  {
   "cell_type": "code",
   "execution_count": 2,
   "metadata": {},
   "outputs": [],
   "source": [
    "TChain *MonteCarlo = new TChain(\"mini\");"
   ]
  },
  {
   "cell_type": "markdown",
   "metadata": {},
   "source": [
    "Vamos a usar dos dataset de Monte Carlos directamente desde la máquina local (debido a problemas de conectividad a internet), sin embargo, se deja comentado los datasets extraido directamente de internet para el que quiera trabajar online.  "
   ]
  },
  {
   "cell_type": "code",
   "execution_count": 3,
   "metadata": {},
   "outputs": [],
   "source": [
    "MonteCarlo->Add(\"/home/rufisica/Documentos/Cevale2_VE/Repositories/Dataset/MC/mc_147770.Zee.root\");\n",
    "MonteCarlo->Add(\"/home/rufisica/Documentos/Cevale2_VE/Repositories/Dataset/MC/mc_147771.Zmumu.root\");\n",
    "/*\n",
    "MonteCarlo->Add(\"http://opendata.atlas.cern/release/samples/MC/mc_147770.Zee.root \");\n",
    "MonteCarlo->Add(\"http://opendata.atlas.cern/release/samples/MC/mc_147771.Zmumu.root\");\n",
    "*/"
   ]
  },
  {
   "cell_type": "markdown",
   "metadata": {},
   "source": [
    "-------------------\n",
    "Con **ROOT Prompt Kernel** debemos extraer las variables que se van usar para el análisis. Para mayor información sobre el nombre y significado de las variables que se guardan en los dataset, chequear la página 46 de [Review of the ATLAS Open Data Dataset](https://cds.cern.ch/record/2203649/files/ATL-OREACH-PUB-2016-001.pdf).\n",
    "\n",
    "Vamos a extraer las variables genéricas, como RunNumber. Esta variable nos ayuda a identificar la muestra (para nuestro caso, si son electrones o muones) dentro del código de análisis."
   ]
  },
  {
   "cell_type": "code",
   "execution_count": 4,
   "metadata": {},
   "outputs": [],
   "source": [
    "Int_t MonteCarlo_runNumber = -1; "
   ]
  },
  {
   "cell_type": "markdown",
   "metadata": {},
   "source": [
    "Ahora vamos a extraer las variables de los leptones"
   ]
  },
  {
   "cell_type": "code",
   "execution_count": 5,
   "metadata": {},
   "outputs": [],
   "source": [
    "Int_t  MonteCarlo_lep_n,           // Número de leptones por evento.\n",
    "       MonteCarlo_lep_type[5];     // Número que identifica el tipo de lepton (e,mu,tau)\n",
    "\n",
    "Float_t  MonteCarlo_lep_pt[5],     // Momento transverso del lepton\n",
    "         MonteCarlo_lep_charge[5], // Carga del lepton\n",
    "         MonteCarlo_lep_eta[5],    // pseudorapidity del lepton\n",
    "         MonteCarlo_lep_phi[5],    // Angulo azimutal del lepton\n",
    "         MonteCarlo_lep_E[5];      // Energía del lepton"
   ]
  },
  {
   "cell_type": "markdown",
   "metadata": {},
   "source": [
    "Seguidamente vamos a llenar las variables definidas anteriormente con el contenido de las ntuplas de entrada"
   ]
  },
  {
   "cell_type": "code",
   "execution_count": 6,
   "metadata": {},
   "outputs": [],
   "source": [
    "MonteCarlo->SetBranchAddress(\"channelNumber\", &MonteCarlo_runNumber);\n",
    "MonteCarlo->SetBranchAddress(\"lep_pt\",        &MonteCarlo_lep_pt);\n",
    "MonteCarlo->SetBranchAddress(\"lep_charge\",    &MonteCarlo_lep_charge);\n",
    "MonteCarlo->SetBranchAddress(\"lep_n\",         &MonteCarlo_lep_n);\n",
    "MonteCarlo->SetBranchAddress(\"lep_type\",      &MonteCarlo_lep_type);\n",
    "MonteCarlo->SetBranchAddress(\"lep_eta\",       &MonteCarlo_lep_eta);\n",
    "MonteCarlo->SetBranchAddress(\"lep_phi\",       &MonteCarlo_lep_phi);\n",
    "MonteCarlo->SetBranchAddress(\"lep_E\",         &MonteCarlo_lep_E);"
   ]
  },
  {
   "cell_type": "markdown",
   "metadata": {},
   "source": [
    "------------------\n",
    "Vamos a crear seis (6) histogramas para los resultados de la masa invariante, el momento transverso y la energía del bosón Z en cada canal. "
   ]
  },
  {
   "cell_type": "code",
   "execution_count": 7,
   "metadata": {},
   "outputs": [],
   "source": [
    "// Definición de histogramas de masa invariante\n",
    "TH1F *h_M_Zee = new TH1F(\"h_M_Zee\",\"Invariant Mass of the Z (Zee);M_Zee [GeV];#Events\",100,0,125);\n",
    "TH1F *h_M_Zmm = new TH1F(\"h_M_Zmm\",\"Invariant Mass of the Z (Zmm); M_Zmm [GeV];#Events\",100,0,125);\n",
    "\n",
    "// Definición de histograma del pt\n",
    "TH1F *h_pt_Zee = new TH1F(\"h_pt_Zee\",\"Transverse Moment of Z (Zee); pt_Zee [GeV];#Events \",50,0,100);\n",
    "TH1F *h_pt_Zmm = new TH1F(\"h_pt_Zmm\",\"Transverse Moment of Z (Zmm);pt_Zmm [GeV];#Events\",50,0,100);\n",
    "\n",
    "// Definición de histograma de Energía\n",
    "TH1F *h_E_Zee = new TH1F(\"h_E_Zee\",\"Z Energy (Zee);E_Zee [GeV];#Events\",100,60,500);\n",
    "TH1F *h_E_Zmm = new TH1F(\"h_E_Zmm\",\"Z Energy (Zmm);E_Zmm [GeV];#Events\",100,60,500);"
   ]
  },
  {
   "cell_type": "markdown",
   "metadata": {},
   "source": [
    "Ahora..... cuestiones de estética"
   ]
  },
  {
   "cell_type": "code",
   "execution_count": 8,
   "metadata": {},
   "outputs": [],
   "source": [
    "h_M_Zee->SetMarkerSize(2);         h_M_Zmm->SetMarkerSize(2);\n",
    "h_M_Zee->SetFillColor(kBlue-5);    h_M_Zmm->SetFillColor(kRed-5);\n",
    "h_M_Zee->SetLineColor(kBlue);      h_M_Zmm->SetLineColor(kRed);\n",
    "\n",
    "h_pt_Zee->SetMarkerSize(2);        h_pt_Zmm->SetMarkerSize(2);\n",
    "h_pt_Zee->SetFillColor(kBlue-5);   h_pt_Zmm->SetFillColor(kRed-5);\n",
    "h_pt_Zee->SetLineColor(kBlue);      h_pt_Zmm->SetLineColor(kRed);\n",
    "\n",
    "h_E_Zee->SetMarkerSize(2);         h_E_Zmm->SetMarkerSize(2);\n",
    "h_E_Zee->SetFillColor(kBlue-5);    h_E_Zmm->SetFillColor(kRed-5);\n",
    "h_E_Zee->SetLineColor(kBlue);      h_E_Zmm->SetLineColor(kRed);"
   ]
  },
  {
   "cell_type": "markdown",
   "metadata": {},
   "source": [
    "----------------\n",
    "Vamos aplicar los criterios de selección de eventos."
   ]
  },
  {
   "cell_type": "code",
   "execution_count": 9,
   "metadata": {},
   "outputs": [
    {
     "name": "stdout",
     "output_type": "stream",
     "text": [
      "Número total de entradas para analizar: 15000000\n",
      "Número de eventos analizados: 6842021\n"
     ]
    }
   ],
   "source": [
    "int nentries, nbytes, i;\n",
    "int events_analyzed=0;\n",
    "float Z_pt, Z_E;\n",
    "\n",
    "nentries=(Int_t)MonteCarlo->GetEntries();\n",
    "\n",
    "cout<<\"Número total de entradas para analizar: \"<<nentries<<endl;\n",
    "\n",
    "for (i=0;i<nentries;i++){\n",
    "    \n",
    "    nbytes=MonteCarlo->GetEntry(i);\n",
    "    \n",
    "    //Corte #1: Exactamente dos buenos leptones con pT>25GeV\n",
    "    if (MonteCarlo_lep_n==2 && MonteCarlo_lep_pt[1]>25000) {\n",
    "        \n",
    "        // Corte #2: Los dos leptones seleccionados deben tener carga opuesta\n",
    "        if (MonteCarlo_lep_charge[0] != MonteCarlo_lep_charge[1]){\n",
    "            \n",
    "            // Corte #3: Los dos leptones deben tener el mismo sabor\n",
    "            if (MonteCarlo_lep_type[0] == MonteCarlo_lep_type[1]){\n",
    "                \n",
    "                // Definición de TLorentzVector\n",
    "                TLorentzVector l1 = TLorentzVector();\n",
    "                TLorentzVector l2 = TLorentzVector();\n",
    "        \n",
    "                l1.SetPtEtaPhiE(MonteCarlo_lep_pt[0]/1000, MonteCarlo_lep_eta[0],MonteCarlo_lep_phi[0],MonteCarlo_lep_E[0]/1000);\n",
    "                l2.SetPtEtaPhiE(MonteCarlo_lep_pt[1]/1000, MonteCarlo_lep_eta[1],MonteCarlo_lep_phi[1],MonteCarlo_lep_E[1]/1000);\n",
    "                \n",
    "                // Calculo de la masa invariante usando vectores de TLorentz\n",
    "                TLorentzVector l12=l1+l2;\n",
    "                \n",
    "                float InvMass=l12.M();\n",
    "                \n",
    "                /* Corte #4: El valor absoluto de la diferencia de masa entre los dos \n",
    "                leptones y la masa conocida del bosón Z debe ser menor a 20GeV */ \n",
    "                if (TMath::Abs(InvMass-91.18)<20){\n",
    "                    \n",
    "                     Z_pt = MonteCarlo_lep_pt[0]-MonteCarlo_lep_pt[1]; // Pt de Z\n",
    "                     Z_E = MonteCarlo_lep_E[0]+MonteCarlo_lep_E[1];   // Energía de Z\n",
    "                    \n",
    "                    events_analyzed++;\n",
    "                    \n",
    "                    // El valor de runNumber nos ayuda a separar las muestras\n",
    "                    if(MonteCarlo_runNumber==147770) // donde 147770==Zee \n",
    "                    {\n",
    "                        h_M_Zee->Fill(InvMass); // Masa invariante de los dos electrones\n",
    "                        h_pt_Zee->Fill(Z_pt/1000);   // Momento transverso del Bosón Z en el canal (ee)\n",
    "                        h_E_Zee->Fill(Z_E/1000);     // Energía del Bosón Z en el canal (ee)\n",
    "                    }\n",
    "                    else if (MonteCarlo_runNumber==147771) // Donde 147771=Zmm\n",
    "                    {\n",
    "                        h_M_Zmm->Fill(InvMass); // Masa invariante de los dos muones\n",
    "                        h_pt_Zmm->Fill(Z_pt/1000);   // Momento transverso del Bosón Z en el canal (mm)\n",
    "                        h_E_Zmm->Fill(Z_E/1000);     // Energía del bosón Z en el canal (mm)\n",
    "                    }\n",
    "                    \n",
    "                }\n",
    "            }\n",
    "        }\n",
    "    }\n",
    "}\n",
    "\n",
    "cout<<\"Número de eventos analizados: \"<<events_analyzed<<endl;"
   ]
  },
  {
   "cell_type": "markdown",
   "metadata": {},
   "source": [
    "---------------\n",
    "\n",
    "Vamos a crear las [TCanvas](https://root.cern.ch/doc/master/classTCanvas.html)  y a graficar los histogramas con los resultados del análisis anterior"
   ]
  },
  {
   "cell_type": "code",
   "execution_count": 10,
   "metadata": {},
   "outputs": [
    {
     "data": {
      "image/png": "[encoded data removed]",
      "text/plain": [
       "<IPython.core.display.Image object>"
      ]
     },
     "metadata": {},
     "output_type": "display_data"
    }
   ],
   "source": [
    "TCanvas *c1 = new TCanvas(\"c1\",\"c1\",10,10,950,650);\n",
    "    //TText tz; tz.SetTextFont(42); tz.SetTextAlign(21);\n",
    "    c1->Divide(2,1);\n",
    "    c1->cd(1); h_M_Zee->Draw();\n",
    "    c1->cd(2); h_M_Zmm->Draw();\n",
    "c1->Draw();"
   ]
  },
  {
   "cell_type": "markdown",
   "metadata": {},
   "source": [
    "**Figura 1:** De izquierda a derecha se muestra: la masa invariante del Bosón Z cuando decae en el canal ($ee$)  ($Z^0 \\rightarrow e^{+}+e^{-}$) y la masa invariante del Bosón Z cuando decae en el canal ($\\mu\\mu$)  ($Z^0 \\rightarrow \\mu^{+}+\\mu^{-}$)."
   ]
  },
  {
   "cell_type": "code",
   "execution_count": 11,
   "metadata": {},
   "outputs": [
    {
     "data": {
      "image/png": "[encoded data removed]",
      "text/plain": [
       "<IPython.core.display.Image object>"
      ]
     },
     "metadata": {},
     "output_type": "display_data"
    }
   ],
   "source": [
    "TCanvas *c2 = new TCanvas(\"c2\",\"c2\",10,10,950,650);\n",
    "    //TText tz; tz.SetTextFont(42); tz.SetTextAlign(21);\n",
    "    c2->Divide(2,1);\n",
    "    c2->cd(1); h_pt_Zee->Draw();\n",
    "    c2->cd(2); h_pt_Zmm->Draw();\n",
    "c2->Draw();"
   ]
  },
  {
   "cell_type": "markdown",
   "metadata": {},
   "source": [
    "**Figura 2:** De izquierda a derecha se muestra: el momento transverso del Bosón Z cuando decae en el canal ($ee$)  ($Z^0 \\rightarrow e^{+}+e^{-}$) y el momento transverso del Bosón Z cuando decae en el canal ($\\mu\\mu$)  ($Z^0 \\rightarrow \\mu^{+}+\\mu^{-}$)."
   ]
  },
  {
   "cell_type": "code",
   "execution_count": 12,
   "metadata": {},
   "outputs": [
    {
     "data": {
      "image/png": "[encoded data removed]",
      "text/plain": [
       "<IPython.core.display.Image object>"
      ]
     },
     "metadata": {},
     "output_type": "display_data"
    }
   ],
   "source": [
    "TCanvas *c3 = new TCanvas(\"c3\",\"c3\",10,10,950,650);\n",
    "    //TText tz; tz.SetTextFont(42); tz.SetTextAlign(21);\n",
    "    c3->Divide(2,1);\n",
    "    c3->cd(1); h_E_Zee->Draw();\n",
    "    c3->cd(2); h_E_Zmm->Draw();\n",
    "c3->Draw();"
   ]
  },
  {
   "cell_type": "markdown",
   "metadata": {},
   "source": [
    "**Figura 3:** De izquierda a derecha se muestra: la energía del Bosón Z cuando decae en el canal ($ee$)  ($Z^0 \\rightarrow e^{+}+e^{-}$) y la energía del Bosón Z cuando decae en el canal ($\\mu\\mu$)  ($Z^0 \\rightarrow \\mu^{+}+\\mu^{-}$)."
   ]
  }
 ],
 "metadata": {
  "kernelspec": {
   "display_name": "ROOT C++",
   "language": "c++",
   "name": "root"
  },
  "language_info": {
   "codemirror_mode": "text/x-c++src",
   "file_extension": ".C",
   "mimetype": " text/x-c++src",
   "name": "c++"
  }
 },
 "nbformat": 4,
 "nbformat_minor": 2
}
